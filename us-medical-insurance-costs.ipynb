{
 "cells": [
  {
   "cell_type": "markdown",
   "metadata": {},
   "source": [
    "# U.S. Medical Insurance Costs"
   ]
  },
  {
   "cell_type": "markdown",
   "metadata": {},
   "source": [
    "- Importing the csv library to allow for the opening of the provided csv format of our data. \n",
    "- Opening the csv as a dictionary to preserve header link.\n",
    "- Printing out field names and first 3 lines of csv to make sure data has been accurately captured.\n",
    "- Printing the number of people included in the data set."
   ]
  },
  {
   "cell_type": "code",
   "execution_count": 10,
   "metadata": {},
   "outputs": [
    {
     "name": "stdout",
     "output_type": "stream",
     "text": [
      "['age', 'sex', 'bmi', 'children', 'smoker', 'region', 'charges']\n",
      "{'age': '19', 'sex': 'female', 'bmi': '27.9', 'children': '0', 'smoker': 'yes', 'region': 'southwest', 'charges': '16884.924'}\n",
      "{'age': '18', 'sex': 'male', 'bmi': '33.77', 'children': '1', 'smoker': 'no', 'region': 'southeast', 'charges': '1725.5523'}\n",
      "{'age': '28', 'sex': 'male', 'bmi': '33', 'children': '3', 'smoker': 'no', 'region': 'southeast', 'charges': '4449.462'}\n",
      "There are 1338 individual lines of data in the data set\n"
     ]
    }
   ],
   "source": [
    "import csv\n",
    "\n",
    "with open(\"insurance.csv\") as ins_file:\n",
    "    ins_data_reader = csv.DictReader(ins_file)\n",
    "    Col_names = ins_data_dict.fieldnames\n",
    "    print(Col_names)\n",
    "\n",
    "    i=1\n",
    "    element_count = 0\n",
    "    ins_data_dict = []\n",
    "    for row in ins_data_reader:\n",
    "        element_count += 1\n",
    "        ins_data_dict.append(row)\n",
    "        if i <= 3:\n",
    "            print(row)\n",
    "            i += 1\n",
    "\n",
    "print(f\"There are {element_count} individual lines of data in the data set\")\n"
   ]
  },
  {
   "cell_type": "markdown",
   "metadata": {},
   "source": [
    "- Finding average age of patients in data set"
   ]
  },
  {
   "cell_type": "code",
   "execution_count": 21,
   "metadata": {},
   "outputs": [
    {
     "name": "stdout",
     "output_type": "stream",
     "text": [
      "The average age of patients in the data set is 39.2\n"
     ]
    }
   ],
   "source": [
    "age_total = 0\n",
    "for row in ins_data_dict:\n",
    "    age_total += int(row[\"age\"])\n",
    "\n",
    "avg_age = age_total / element_count\n",
    "\n",
    "print(f\"The average age of patients in the data set is {round(avg_age,1)}\")"
   ]
  },
  {
   "cell_type": "markdown",
   "metadata": {},
   "source": [
    "- Creating a dictionary for the data sorted by region\n",
    "    - Number of patients per region\n",
    "    - Number of smokers per region\n",
    "    - Average age of patients per region\n",
    "    - Average bmi of patients per region\n",
    "    - Average cost of insruace per region\n",
    "    - Average number of children per region"
   ]
  },
  {
   "cell_type": "code",
   "execution_count": 43,
   "metadata": {},
   "outputs": [
    {
     "name": "stdout",
     "output_type": "stream",
     "text": [
      "Data for the Southwest region:\n",
      "    Number of patients: 325\n",
      "    Number of smokers: 58\n",
      "    Average age of patient: 39.5\n",
      "    Average patient bmi: 30.6\n",
      "    Average number of children: 1.1\n",
      "    Average cost of insurance per patient: 12346.9\n",
      "Data for the Southeast region:\n",
      "    Number of patients: 364\n",
      "    Number of smokers: 91\n",
      "    Average age of patient: 38.9\n",
      "    Average patient bmi: 33.4\n",
      "    Average number of children: 1.0\n",
      "    Average cost of insurance per patient: 14735.4\n",
      "Data for the Northwest region:\n",
      "    Number of patients: 325\n",
      "    Number of smokers: 58\n",
      "    Average age of patient: 39.2\n",
      "    Average patient bmi: 29.2\n",
      "    Average number of children: 1.1\n",
      "    Average cost of insurance per patient: 12417.6\n",
      "Data for the Northeast region:\n",
      "    Number of patients: 324\n",
      "    Number of smokers: 67\n",
      "    Average age of patient: 39.3\n",
      "    Average patient bmi: 29.2\n",
      "    Average number of children: 1.0\n",
      "    Average cost of insurance per patient: 13406.4\n"
     ]
    }
   ],
   "source": [
    "regions = []\n",
    "region_data = {}\n",
    "for row in ins_data_dict:\n",
    "    \n",
    "    #Checking if region is included in region dictionary, setting initial data in dictionary\n",
    "    if row[\"region\"] not in regions:\n",
    "        regions.append(row[\"region\"])\n",
    "        region_data[row[\"region\"]] = {}\n",
    "        region_data[row[\"region\"]][\"num_patients\"] = 0\n",
    "        region_data[row[\"region\"]][\"num_smokers\"] = 0\n",
    "        region_data[row[\"region\"]][\"avg_age\"] = 0\n",
    "        region_data[row[\"region\"]][\"avg_bmi\"] = 0\n",
    "        region_data[row[\"region\"]][\"avg_ins_cost\"] = 0\n",
    "        region_data[row[\"region\"]][\"avg_num_children\"] = 0\n",
    "        \n",
    "    #increasing patient count\n",
    "    region_data[row[\"region\"]][\"num_patients\"] += 1\n",
    "    #increasing smoker count\n",
    "    if row[\"smoker\"] == \"yes\":\n",
    "        region_data[row[\"region\"]][\"num_smokers\"] += 1\n",
    "    \n",
    "    #dynamically calculating avg age, bmi, insurance cost, and number of children\n",
    "    region_data[row[\"region\"]][\"avg_age\"] = (region_data[row[\"region\"]][\"avg_age\"] * (region_data[row[\"region\"]][\"num_patients\"] - 1) + int(row[\"age\"]))/region_data[row[\"region\"]][\"num_patients\"]\n",
    "    region_data[row[\"region\"]][\"avg_bmi\"] = (region_data[row[\"region\"]][\"avg_bmi\"] * (region_data[row[\"region\"]][\"num_patients\"] - 1) + float(row[\"bmi\"]))/region_data[row[\"region\"]][\"num_patients\"]\n",
    "    region_data[row[\"region\"]][\"avg_ins_cost\"] = (region_data[row[\"region\"]][\"avg_ins_cost\"] * (region_data[row[\"region\"]][\"num_patients\"] - 1) + float(row[\"charges\"]))/region_data[row[\"region\"]][\"num_patients\"]\n",
    "    region_data[row[\"region\"]][\"avg_num_children\"] = (region_data[row[\"region\"]][\"avg_num_children\"] * (region_data[row[\"region\"]][\"num_patients\"] - 1) + int(row[\"children\"]))/region_data[row[\"region\"]][\"num_patients\"]\n",
    "    \n",
    "for region in region_data:\n",
    "    print(f\"\"\"Data for the {region.title()} region:\n",
    "    Number of patients: {region_data[region][\"num_patients\"]}\n",
    "    Number of smokers: {region_data[region][\"num_smokers\"]}\n",
    "    Average age of patient: {round(region_data[region][\"avg_age\"], 1)}\n",
    "    Average patient bmi: {round(region_data[region][\"avg_bmi\"], 1)}\n",
    "    Average number of children: {round(region_data[region][\"avg_num_children\"], 1)}\n",
    "    Average cost of insurance per patient: {round(region_data[region][\"avg_ins_cost\"], 1)}\"\"\")"
   ]
  },
  {
   "cell_type": "markdown",
   "metadata": {},
   "source": [
    "Solving for average age of a patient whom has 1 or more children"
   ]
  },
  {
   "cell_type": "code",
   "execution_count": null,
   "metadata": {},
   "outputs": [],
   "source": [
    "kid_count = 0\n",
    "age_total = 0\n",
    "\n",
    "for patient in ins_data_dict:\n",
    "    if int(patient[\"children\"]) > 0:\n",
    "        kid_count += 1\n",
    "        age_total += int(patient[\"age\"])\n",
    "    \n",
    "avg_age_with_kids = age_total / kid_count\n",
    "        "
   ]
  }
 ],
 "metadata": {
  "kernelspec": {
   "display_name": "Python 3",
   "language": "python",
   "name": "python3"
  },
  "language_info": {
   "codemirror_mode": {
    "name": "ipython",
    "version": 3
   },
   "file_extension": ".py",
   "mimetype": "text/x-python",
   "name": "python",
   "nbconvert_exporter": "python",
   "pygments_lexer": "ipython3",
   "version": "3.8.8"
  }
 },
 "nbformat": 4,
 "nbformat_minor": 4
}
